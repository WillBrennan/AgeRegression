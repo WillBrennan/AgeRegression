{
 "cells": [
  {
   "cell_type": "code",
   "execution_count": null,
   "metadata": {},
   "outputs": [],
   "source": [
    "import math\n",
    "import numpy as np\n",
    "import pandas as pd\n",
    "import matplotlib.pyplot as plt\n",
    "import seaborn as sns\n",
    "sns.set(color_codes=True)\n",
    "\n",
    "import torch\n",
    "import torch.utils.data as data\n",
    "\n",
    "from age_regression import AgeRegressionModel\n",
    "from age_regression import AllAgeFacesDataset\n",
    "from age_regression import denormalize_image"
   ]
  },
  {
   "cell_type": "code",
   "execution_count": null,
   "metadata": {},
   "outputs": [],
   "source": [
    "def create_df(dataset_path: str, model_path: str):\n",
    "    device = 'cuda' if torch.cuda.is_available() else 'cpu'\n",
    "    print(f'using {device} for inference')\n",
    "    \n",
    "    dataset = AllAgeFacesDataset(dataset_path, use_augmentation=False)\n",
    "    \n",
    "    model = AgeRegressionModel()\n",
    "    model.load_state_dict(torch.load(model_path, map_location=device))\n",
    "    model = model.eval().to(device)\n",
    "    \n",
    "    dataloader = data.DataLoader(dataset, batch_size=16, num_workers=3, pin_memory=True)\n",
    "    \n",
    "    gt_ages = []\n",
    "    pred_ages = []\n",
    "    images = []\n",
    "\n",
    "    for batch_images, batch_gt_ages in dataloader:\n",
    "        images += [batch_images.numpy()]\n",
    "        \n",
    "        with torch.no_grad():\n",
    "            batch_images = batch_images.to(device, non_blocking=True)\n",
    "            batch_pred_ages = model(batch_images).cpu()\n",
    "\n",
    "            pred_ages += [batch_pred_ages.int().numpy()]\n",
    "            gt_ages += [batch_gt_ages.int().numpy()]\n",
    "            \n",
    "    images = np.concatenate(images, axis=0)\n",
    "            \n",
    "    gt_ages = np.concatenate(gt_ages, axis=0)[:, 0]\n",
    "    pred_ages = np.concatenate(pred_ages, axis=0)[:, 0]\n",
    "    \n",
    "    gt_ages = pd.Series(gt_ages, name='gt_ages')\n",
    "    pred_ages = pd.Series(pred_ages, name='pred_ages')\n",
    "    \n",
    "    return dataset.max_age, images, gt_ages, pred_ages"
   ]
  },
  {
   "cell_type": "code",
   "execution_count": null,
   "metadata": {},
   "outputs": [],
   "source": [
    "dataset_path = '/home/will/code/datasets/faces/val'\n",
    "model_path = '/home/will/code/AgeRegression/pretrained/model_age_regression_resnext101_20.pth'"
   ]
  },
  {
   "cell_type": "code",
   "execution_count": null,
   "metadata": {},
   "outputs": [],
   "source": [
    "max_age, images, gt_ages, pred_ages = create_df(dataset_path, model_path)"
   ]
  },
  {
   "cell_type": "code",
   "execution_count": null,
   "metadata": {},
   "outputs": [],
   "source": [
    "def display_images(images, gt_ages, pred_ages):\n",
    "    num_cols = 4\n",
    "    num_rows = int(math.ceil(len(images) / num_cols))\n",
    "\n",
    "    fig = plt.figure(figsize=(5 * num_cols, 5 * num_rows))\n",
    "\n",
    "    for idx, (image, gt_age, pred_age) in enumerate(zip(images, gt_ages, pred_ages)):\n",
    "        ax = fig.add_subplot(num_rows, num_cols, idx + 1)\n",
    "        ax.imshow(denormalize_image(image)[..., ::-1])\n",
    "        ax.grid(None)\n",
    "\n",
    "        title = f'g.t. age: {gt_age:.1f}\\npred age: {pred_age:.1f}'\n",
    "        ax.set_title(title)\n",
    "\n",
    "    fig.tight_layout() \n",
    "    plt.savefig('age_regression.png')\n",
    "    plt.show()    \n",
    "\n",
    "display_images(images[:16], gt_ages[:16], pred_ages[:16])"
   ]
  },
  {
   "cell_type": "code",
   "execution_count": null,
   "metadata": {},
   "outputs": [],
   "source": [
    "plt = sns.jointplot(gt_ages, pred_ages, height=7, xlim=(0, max_age), ylim=(0, max_age))\n",
    "plt.savefig('joint_plot.png')"
   ]
  },
  {
   "cell_type": "code",
   "execution_count": null,
   "metadata": {},
   "outputs": [],
   "source": [
    "plt = sns.distplot(gt_ages, kde=False)\n",
    "plt.set_xlim(0, max_age)\n",
    "plt.set_title('g.t. ages')\n",
    "plt.figure.savefig('gt_ages_dist.png')"
   ]
  },
  {
   "cell_type": "code",
   "execution_count": null,
   "metadata": {},
   "outputs": [],
   "source": [
    "plt = sns.distplot(pred_ages, kde=False)\n",
    "plt.set_xlim(0, max_age)\n",
    "plt.set_title('pred ages')\n",
    "plt.figure.savefig('pred_ages_dist.png')"
   ]
  },
  {
   "cell_type": "code",
   "execution_count": null,
   "metadata": {},
   "outputs": [],
   "source": [
    "df = pd.DataFrame({'gt_ages': gt_ages, 'pred_ages':pred_ages})\n",
    "df['mae'] = (df['gt_ages'] - df['pred_ages']).abs()\n",
    "\n",
    "def _age_group(age: int):\n",
    "    age = 5 * (age // 5)\n",
    "    return f'{age} - {age + 5}'\n",
    "\n",
    "df['age_group'] = df['gt_ages'].apply(_age_group)\n",
    "plt_order = [_age_group(age) for age in range(0, max_age + 1, 5)]\n",
    "plt = sns.catplot(x='age_group', y=\"mae\", kind='bar', data=df, size=7, order=plt_order)\n",
    "plt.set_xticklabels(rotation=45)\n",
    "plt.savefig('mae_for_age.png')"
   ]
  }
 ],
 "metadata": {
  "kernelspec": {
   "display_name": "Python 3",
   "language": "python",
   "name": "python3"
  },
  "language_info": {
   "codemirror_mode": {
    "name": "ipython",
    "version": 3
   },
   "file_extension": ".py",
   "mimetype": "text/x-python",
   "name": "python",
   "nbconvert_exporter": "python",
   "pygments_lexer": "ipython3",
   "version": "3.7.5"
  }
 },
 "nbformat": 4,
 "nbformat_minor": 2
}
